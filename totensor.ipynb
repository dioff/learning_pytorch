{
 "cells": [
  {
   "cell_type": "markdown",
   "metadata": {},
   "source": [
    "torchvision.transforms:\n",
    "常用的数据预处理方法，提升泛化能力。包括：数据中心化、数据标准化、缩放、裁剪、旋转、填充、噪声添加、灰度变换、线性变换、放射变换、亮度、饱和度和对比度变换等"
   ]
  },
  {
   "cell_type": "code",
   "execution_count": 1,
   "metadata": {},
   "outputs": [],
   "source": [
    "# 数据标准化——transforms.Normalize\n",
    "# 功能：逐channel对图像进行标准化（均值变为0，标准差变为1），可以加快模型的收敛\n",
    "#  output = (input - mean) / std\n",
    "#  mean: 各通道的均值\n",
    "#  std：各通道的标准差\n",
    "#  inplace：是否原地操作  \n",
    "\n",
    "# transforms.ToTensor()\n",
    "# 功能：将原始的PIL_img或者numpy.array格式的数据格式化为可被pytorch快速处理的张量类型\n",
    "# 将输入的数据shape W, H, C ----> C, W, H\n",
    "# 将所有数除以255，将数据归一化到[0, 1]"
   ]
  },
  {
   "cell_type": "code",
   "execution_count": 2,
   "metadata": {},
   "outputs": [],
   "source": [
    "import torch\n",
    "import numpy as np\n",
    "from torchvision import transforms\n"
   ]
  },
  {
   "cell_type": "code",
   "execution_count": 3,
   "metadata": {},
   "outputs": [
    {
     "name": "stdout",
     "output_type": "stream",
     "text": [
      "[[[1 1 1]\n",
      "  [1 1 1]\n",
      "  [1 1 1]\n",
      "  [1 1 1]\n",
      "  [1 1 1]]\n",
      "\n",
      " [[2 2 2]\n",
      "  [2 2 2]\n",
      "  [2 2 2]\n",
      "  [2 2 2]\n",
      "  [2 2 2]]\n",
      "\n",
      " [[3 3 3]\n",
      "  [3 3 3]\n",
      "  [3 3 3]\n",
      "  [3 3 3]\n",
      "  [3 3 3]]\n",
      "\n",
      " [[4 4 4]\n",
      "  [4 4 4]\n",
      "  [4 4 4]\n",
      "  [4 4 4]\n",
      "  [4 4 4]]\n",
      "\n",
      " [[5 5 5]\n",
      "  [5 5 5]\n",
      "  [5 5 5]\n",
      "  [5 5 5]\n",
      "  [5 5 5]]]\n",
      "(5, 5, 3)\n",
      "tensor([[[0.0039, 0.0039, 0.0039, 0.0039, 0.0039],\n",
      "         [0.0078, 0.0078, 0.0078, 0.0078, 0.0078],\n",
      "         [0.0118, 0.0118, 0.0118, 0.0118, 0.0118],\n",
      "         [0.0157, 0.0157, 0.0157, 0.0157, 0.0157],\n",
      "         [0.0196, 0.0196, 0.0196, 0.0196, 0.0196]],\n",
      "\n",
      "        [[0.0039, 0.0039, 0.0039, 0.0039, 0.0039],\n",
      "         [0.0078, 0.0078, 0.0078, 0.0078, 0.0078],\n",
      "         [0.0118, 0.0118, 0.0118, 0.0118, 0.0118],\n",
      "         [0.0157, 0.0157, 0.0157, 0.0157, 0.0157],\n",
      "         [0.0196, 0.0196, 0.0196, 0.0196, 0.0196]],\n",
      "\n",
      "        [[0.0039, 0.0039, 0.0039, 0.0039, 0.0039],\n",
      "         [0.0078, 0.0078, 0.0078, 0.0078, 0.0078],\n",
      "         [0.0118, 0.0118, 0.0118, 0.0118, 0.0118],\n",
      "         [0.0157, 0.0157, 0.0157, 0.0157, 0.0157],\n",
      "         [0.0196, 0.0196, 0.0196, 0.0196, 0.0196]]])\n",
      "torch.Size([3, 5, 5])\n"
     ]
    }
   ],
   "source": [
    "# 自定义图片数组，数据类型要转为uint8，不然transforms.ToTensor()不会归一化\n",
    "data = np.array([\n",
    "                [[1,1,1],[1,1,1],[1,1,1],[1,1,1],[1,1,1]],\n",
    "                [[2,2,2],[2,2,2],[2,2,2],[2,2,2],[2,2,2]],\n",
    "                [[3,3,3],[3,3,3],[3,3,3],[3,3,3],[3,3,3]],\n",
    "                [[4,4,4],[4,4,4],[4,4,4],[4,4,4],[4,4,4]],\n",
    "                [[5,5,5],[5,5,5],[5,5,5],[5,5,5],[5,5,5]]\n",
    "        ],dtype='uint8')\n",
    "print(data)\n",
    "print(data.shape)\n",
    "data = transforms.ToTensor()(data)\n",
    "print(data)\n",
    "print(data.shape)"
   ]
  }
 ],
 "metadata": {
  "kernelspec": {
   "display_name": "pytorch",
   "language": "python",
   "name": "python3"
  },
  "language_info": {
   "codemirror_mode": {
    "name": "ipython",
    "version": 3
   },
   "file_extension": ".py",
   "mimetype": "text/x-python",
   "name": "python",
   "nbconvert_exporter": "python",
   "pygments_lexer": "ipython3",
   "version": "3.10.13"
  }
 },
 "nbformat": 4,
 "nbformat_minor": 2
}
