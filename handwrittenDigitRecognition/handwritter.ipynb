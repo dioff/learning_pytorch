{
 "cells": [
  {
   "cell_type": "code",
   "execution_count": 95,
   "metadata": {},
   "outputs": [],
   "source": [
    "# 加载必要的库\n",
    "import torch\n",
    "import torch.nn as nn\n",
    "import torch.nn.functional as F\n",
    "import torch.optim as optim\n",
    "from torchvision import datasets, transforms"
   ]
  },
  {
   "cell_type": "code",
   "execution_count": 96,
   "metadata": {},
   "outputs": [],
   "source": [
    "# 定义超参数\n",
    "'''\n",
    "参数：模型f（x，a）中的a称为模型的参数，可以通过优化算法进行学习\n",
    "超参数：定义模型结构或优化策略\n",
    "'''\n",
    "BATCH_SIZE = 64 # 若电脑性能不好可以减小\n",
    "DEVICE = torch.device(\"cuda\" if torch.cuda.is_available() else \"cpu\")\n",
    "EPOCHS = 10 # 训练数据集的轮次"
   ]
  },
  {
   "cell_type": "code",
   "execution_count": 97,
   "metadata": {},
   "outputs": [],
   "source": [
    "# 构建pipeline（transforms），对图像做处理\n",
    "pipeline = transforms.Compose([\n",
    "    transforms.ToTensor(),  # 将图片转换成tensor\n",
    "    transforms.Normalize((0.1307,),(0.3081,)) # 归一化\n",
    "])"
   ]
  },
  {
   "cell_type": "code",
   "execution_count": 98,
   "metadata": {},
   "outputs": [],
   "source": [
    "# 下载加载数据\n",
    "from torch.utils.data import DataLoader\n",
    "\n",
    "train_set = datasets.MNIST(\"data\", train=True, download=True, transform=pipeline)\n",
    "test_set = datasets.MNIST(\"data\", train=False, download=True, transform=pipeline)\n",
    "\n",
    "# 加载数据\n",
    "train_loader = DataLoader(train_set, batch_size=BATCH_SIZE, shuffle=True) # 打乱\n",
    "test_loader = DataLoader(test_set, batch_size=BATCH_SIZE, shuffle=True) # 打乱\n"
   ]
  },
  {
   "cell_type": "code",
   "execution_count": 99,
   "metadata": {},
   "outputs": [],
   "source": [
    "# 这段用于查看数据集内的图片\n",
    "# with open(\"./data/MNIST/raw/t10k-images-idx3-ubyte\", \"rb\") as f:\n",
    "#     file = f.read()\n",
    "# imagel = [int(str(item).encode(\"ascii\"), 16) for item in file[16: 16+784]]\n",
    "# print(imagel)\n",
    "# import cv2\n",
    "# import numpy as np\n",
    "# imagel_np = np.array(imagel, dtype=np.int8).reshape(28, 28, 1)\n",
    "# cv2.imwrite(\"digit.jpg\", imagel_np)"
   ]
  },
  {
   "cell_type": "code",
   "execution_count": 100,
   "metadata": {},
   "outputs": [],
   "source": [
    "# 构建网络模型\n",
    "class Digit(nn.Module):\n",
    "    def __init__(self):\n",
    "        super().__init__()\n",
    "        self.conv1 = nn.Conv2d(1, 10, 5) # 1: 灰度图片的通道 10：输出通道 5：kernel\n",
    "        self.conv2 = nn.Conv2d(10, 20, 3)\n",
    "        self.fc1 = nn.Linear(20*10*10, 500) # 20*10*10:输入通道  500：输出通道\n",
    "        self.fc2 = nn.Linear(500, 10) # 500: 输入通道， 10：输出通道\n",
    "\n",
    "    def forward(self, x):\n",
    "        input_size = x.size(0)  # batch_size*1*28*28\n",
    "        x = self.conv1(x) # 输入：batch_size*1*28*28， 输出：batch_size*10*24*24  （28 - 5 + 1）= 24\n",
    "        x = F.relu(x) # 激活函数 保持shape不变，输出：batch_size*10*24*24\n",
    "        x = F.max_pool2d(x, 2, 2) # 输入：batch_size*10*24*24 输出：batch_size*10*12*12\n",
    "\n",
    "        x = self.conv2(x) #输入：batch_size*10*12*12 输出：：batch_size*20*10*10         （12 - 3 + 1）= 10\n",
    "        x = F.relu(x)\n",
    "\n",
    "        x = x.view(input_size, -1) # 展开（拉平） -1 自动计算维度，20*10*10  输出：batch_size*20*10*10 = batch_size*2000\n",
    "\n",
    "        x = self.fc1(x) # 输入:batch_size*2000 输出：batch*500\n",
    "        x = F.relu(x) # 保持shape不变\n",
    "\n",
    "        x = self.fc2(x) # 输入：batch*500 输出：batch*10\n",
    "\n",
    "        output = F.log_softmax(x, dim=1) # 计算分类后每个数字的概率值\n",
    "\n",
    "        return output\n"
   ]
  },
  {
   "cell_type": "code",
   "execution_count": 101,
   "metadata": {},
   "outputs": [],
   "source": [
    "# 定义优化器\n",
    "model = Digit().to(DEVICE)\n",
    "\n",
    "optimizer = optim.Adam(model.parameters())"
   ]
  },
  {
   "cell_type": "code",
   "execution_count": 102,
   "metadata": {},
   "outputs": [],
   "source": [
    "# 定义训练方法\n",
    "def train_model(model, device, train_loader, optimizer, epoch):\n",
    "    # 模型训练\n",
    "    model.train()\n",
    "    for batch_index, (data, target) in enumerate(train_loader):\n",
    "        # 部署到DEVICE上\n",
    "        data, target = data.to(device), target.to(device)\n",
    "        # 梯度初始化为0\n",
    "        optimizer.zero_grad()\n",
    "        # 预测\n",
    "        output = model(data)\n",
    "        # 计算损失\n",
    "        loss = F.cross_entropy(output, target)  # 交叉熵函数\n",
    "        # 找到概率最大的下标\n",
    "        # pred = output.max(1, keepdim=True) # pred = output.argmax(dim=1)\n",
    "        # 反向传播\n",
    "        loss.backward()\n",
    "        # 参数优化\n",
    "        optimizer.step()\n",
    "        if batch_index % 3000 == 0: \n",
    "            print(f\"Train Epoch:{epoch} \\t Loss:{loss.item():.6f}\\n\")\n"
   ]
  },
  {
   "cell_type": "code",
   "execution_count": 103,
   "metadata": {},
   "outputs": [],
   "source": [
    "# 测试方法：\n",
    "def test_model(model, device,test_loader):\n",
    "    # 模型验证\n",
    "    model.eval()\n",
    "    # 正确率\n",
    "    currect = 0.0\n",
    "    # 测试损失\n",
    "    test_loss = 0.0\n",
    "    with torch.no_grad():   # 不会计算梯度，也不会进行反向传播\n",
    "        # 部署到device上\n",
    "        for data, target in test_loader:\n",
    "            data, target = data.to(device), target.to(device)\n",
    "            # 测试数据\n",
    "            output = model(data)\n",
    "            # 计算测试损失\n",
    "            test_loss += F.cross_entropy(output, target).item()\n",
    "            # 找到概率最大的下标\n",
    "            pred = output.max(1, keepdim=True)[1]  # 值， 索引\n",
    "            # pred = torch.max(output, dim=1)\n",
    "            # pred = output.argmax(dim=1)\n",
    "            # 累计正确的值\n",
    "            currect += pred.eq(target.view_as(pred)).sum().item()\n",
    "        test_loss /= len(test_loader.dataset)\n",
    "        print(f\"Test —— Average loss : {test_loss:.4f}, Accuracy : { 100.0*currect / len(test_loader.dataset):.3f}\\n\")\n",
    "\n"
   ]
  },
  {
   "cell_type": "code",
   "execution_count": 104,
   "metadata": {},
   "outputs": [
    {
     "name": "stdout",
     "output_type": "stream",
     "text": [
      "Train Epoch:1 \t Loss:2.294555\n",
      "\n",
      "Test —— Average loss : 0.0007, Accuracy : 98.360\n",
      "\n",
      "Train Epoch:2 \t Loss:0.015559\n",
      "\n",
      "Test —— Average loss : 0.0005, Accuracy : 98.850\n",
      "\n",
      "Train Epoch:3 \t Loss:0.006279\n",
      "\n",
      "Test —— Average loss : 0.0005, Accuracy : 98.770\n",
      "\n",
      "Train Epoch:4 \t Loss:0.003055\n",
      "\n",
      "Test —— Average loss : 0.0007, Accuracy : 98.660\n",
      "\n",
      "Train Epoch:5 \t Loss:0.004222\n",
      "\n",
      "Test —— Average loss : 0.0005, Accuracy : 99.010\n",
      "\n",
      "Train Epoch:6 \t Loss:0.006399\n",
      "\n",
      "Test —— Average loss : 0.0007, Accuracy : 98.810\n",
      "\n",
      "Train Epoch:7 \t Loss:0.000569\n",
      "\n",
      "Test —— Average loss : 0.0006, Accuracy : 98.920\n",
      "\n",
      "Train Epoch:8 \t Loss:0.000056\n",
      "\n",
      "Test —— Average loss : 0.0006, Accuracy : 98.950\n",
      "\n",
      "Train Epoch:9 \t Loss:0.000147\n",
      "\n",
      "Test —— Average loss : 0.0006, Accuracy : 98.930\n",
      "\n",
      "Train Epoch:10 \t Loss:0.000314\n",
      "\n",
      "Test —— Average loss : 0.0011, Accuracy : 98.330\n",
      "\n"
     ]
    }
   ],
   "source": [
    "# 调用方法\n",
    "for epoch in range(1, EPOCHS + 1):\n",
    "    train_model(model, DEVICE, train_loader, optimizer, epoch)\n",
    "    test_model(model, DEVICE, test_loader)"
   ]
  }
 ],
 "metadata": {
  "kernelspec": {
   "display_name": "pytorch",
   "language": "python",
   "name": "python3"
  },
  "language_info": {
   "codemirror_mode": {
    "name": "ipython",
    "version": 3
   },
   "file_extension": ".py",
   "mimetype": "text/x-python",
   "name": "python",
   "nbconvert_exporter": "python",
   "pygments_lexer": "ipython3",
   "version": "3.10.13"
  }
 },
 "nbformat": 4,
 "nbformat_minor": 2
}
