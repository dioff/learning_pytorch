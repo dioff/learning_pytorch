{
 "cells": [
  {
   "cell_type": "code",
   "execution_count": 126,
   "metadata": {},
   "outputs": [],
   "source": [
    "import torch\n",
    "import numpy as np\n",
    "from torchvision import transforms"
   ]
  },
  {
   "cell_type": "code",
   "execution_count": 127,
   "metadata": {},
   "outputs": [],
   "source": [
    "data = np.array([\n",
    "                [[1,1,1],[1,1,1],[1,1,1],[1,1,1],[1,1,1]],\n",
    "                [[2,2,2],[2,2,2],[2,2,2],[2,2,2],[2,2,2]],\n",
    "                [[3,3,3],[3,3,3],[3,3,3],[3,3,3],[3,3,3]],\n",
    "                [[4,4,4],[4,4,4],[4,4,4],[4,4,4],[4,4,4]],\n",
    "                [[5,5,5],[5,5,5],[5,5,5],[5,5,5],[5,5,5]]\n",
    "        ],dtype='uint8')"
   ]
  },
  {
   "cell_type": "code",
   "execution_count": 128,
   "metadata": {},
   "outputs": [
    {
     "name": "stdout",
     "output_type": "stream",
     "text": [
      "torch.Size([1, 3, 5, 5])\n"
     ]
    }
   ],
   "source": [
    "# 将数据转换为C，W，H，并归一化到[0,1]\n",
    "data = transforms.ToTensor()(data)\n",
    "# 对数据进行扩维，增加batch维度\n",
    "data = torch.unsqueeze(data, 0)\n",
    "print(data.shape)"
   ]
  },
  {
   "cell_type": "code",
   "execution_count": 129,
   "metadata": {},
   "outputs": [
    {
     "name": "stdout",
     "output_type": "stream",
     "text": [
      "torch.Size([1, 3, 25])\n",
      "tensor([[[0.0039, 0.0039, 0.0039, 0.0039, 0.0039, 0.0078, 0.0078, 0.0078,\n",
      "          0.0078, 0.0078, 0.0118, 0.0118, 0.0118, 0.0118, 0.0118, 0.0157,\n",
      "          0.0157, 0.0157, 0.0157, 0.0157, 0.0196, 0.0196, 0.0196, 0.0196,\n",
      "          0.0196],\n",
      "         [0.0039, 0.0039, 0.0039, 0.0039, 0.0039, 0.0078, 0.0078, 0.0078,\n",
      "          0.0078, 0.0078, 0.0118, 0.0118, 0.0118, 0.0118, 0.0118, 0.0157,\n",
      "          0.0157, 0.0157, 0.0157, 0.0157, 0.0196, 0.0196, 0.0196, 0.0196,\n",
      "          0.0196],\n",
      "         [0.0039, 0.0039, 0.0039, 0.0039, 0.0039, 0.0078, 0.0078, 0.0078,\n",
      "          0.0078, 0.0078, 0.0118, 0.0118, 0.0118, 0.0118, 0.0118, 0.0157,\n",
      "          0.0157, 0.0157, 0.0157, 0.0157, 0.0196, 0.0196, 0.0196, 0.0196,\n",
      "          0.0196]]])\n"
     ]
    }
   ],
   "source": [
    "nb_samples = 0.\n",
    "channel_mean = torch.zeros(3)\n",
    "channel_std = torch.zeros(3)\n",
    "N, C, H, W = data.shape[:4] # N = 1, C = 3, H = 5, W = 5\n",
    "# 将w,h维度的数据展平为batch, channel,data\n",
    "# 在对三个维度上的数分别求和、标准差\n",
    "data = data.view(N, C, -1)  \n",
    "print(data.shape)\n",
    "print(data)"
   ]
  },
  {
   "cell_type": "code",
   "execution_count": 130,
   "metadata": {},
   "outputs": [
    {
     "name": "stdout",
     "output_type": "stream",
     "text": [
      "tensor([0.0005, 0.0005, 0.0005]) tensor([0.0002, 0.0002, 0.0002])\n"
     ]
    }
   ],
   "source": [
    "#展平后，w,h属于第二维度，对他们求平均，sum(0)为将同一纬度的数据累加\n",
    "channel_mean += data.mean(2).sum(0)\n",
    "channel_std += data.std(2).sum(0)\n",
    "# 获取所有batch的数据\n",
    "nb_samples += data.size(2)\n",
    "# 获取同一batch的均值和标准差\n",
    "channel_mean /= nb_samples\n",
    "channel_std /= nb_samples\n",
    "\n",
    "print(channel_mean, channel_std)\n"
   ]
  },
  {
   "cell_type": "code",
   "execution_count": 131,
   "metadata": {},
   "outputs": [
    {
     "ename": "IndexError",
     "evalue": "index 1 is out of bounds for dimension 0 with size 1",
     "output_type": "error",
     "traceback": [
      "\u001b[1;31m---------------------------------------------------------------------------\u001b[0m",
      "\u001b[1;31mIndexError\u001b[0m                                Traceback (most recent call last)",
      "\u001b[1;32mc:\\Users\\Lazzy\\Desktop\\项目\\learning_pytorch\\mean_std.ipynb 单元格 6\u001b[0m line \u001b[0;36m2\n\u001b[0;32m      <a href='vscode-notebook-cell:/c%3A/Users/Lazzy/Desktop/%E9%A1%B9%E7%9B%AE/learning_pytorch/mean_std.ipynb#W5sZmlsZQ%3D%3D?line=0'>1</a>\u001b[0m \u001b[39mfor\u001b[39;00m i \u001b[39min\u001b[39;00m \u001b[39mrange\u001b[39m(\u001b[39m3\u001b[39m):\n\u001b[1;32m----> <a href='vscode-notebook-cell:/c%3A/Users/Lazzy/Desktop/%E9%A1%B9%E7%9B%AE/learning_pytorch/mean_std.ipynb#W5sZmlsZQ%3D%3D?line=1'>2</a>\u001b[0m     data[i,:,:] \u001b[39m=\u001b[39m (data[i,:,:] \u001b[39m-\u001b[39m channel_mean[i]) \u001b[39m/\u001b[39m channel_std[i]\n\u001b[0;32m      <a href='vscode-notebook-cell:/c%3A/Users/Lazzy/Desktop/%E9%A1%B9%E7%9B%AE/learning_pytorch/mean_std.ipynb#W5sZmlsZQ%3D%3D?line=2'>3</a>\u001b[0m \u001b[39mprint\u001b[39m(data)\n",
      "\u001b[1;31mIndexError\u001b[0m: index 1 is out of bounds for dimension 0 with size 1"
     ]
    }
   ],
   "source": [
    "for i in range(3):\n",
    "    data[i,:,:] = (data[i,:,:] - channel_mean[i]) / channel_std[i]\n",
    "print(data)"
   ]
  }
 ],
 "metadata": {
  "kernelspec": {
   "display_name": "pytorch",
   "language": "python",
   "name": "python3"
  },
  "language_info": {
   "codemirror_mode": {
    "name": "ipython",
    "version": 3
   },
   "file_extension": ".py",
   "mimetype": "text/x-python",
   "name": "python",
   "nbconvert_exporter": "python",
   "pygments_lexer": "ipython3",
   "version": "3.10.13"
  }
 },
 "nbformat": 4,
 "nbformat_minor": 2
}
