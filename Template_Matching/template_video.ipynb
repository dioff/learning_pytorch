{
 "cells": [
  {
   "cell_type": "code",
   "execution_count": 6,
   "metadata": {},
   "outputs": [],
   "source": [
    "import cv2\n",
    "import pathlib\n",
    "import time\n",
    "import argparse\n",
    "import os"
   ]
  },
  {
   "cell_type": "code",
   "execution_count": 8,
   "metadata": {},
   "outputs": [
    {
     "name": "stderr",
     "output_type": "stream",
     "text": [
      "usage: ipykernel_launcher.py [-h] [-i INPUT] [-t TEMPLATE]\n",
      "ipykernel_launcher.py: error: unrecognized arguments: --f=c:\\Users\\Lazzy\\AppData\\Roaming\\jupyter\\runtime\\kernel-v2-5856i9WeMKeFduvw.json\n"
     ]
    },
    {
     "ename": "SystemExit",
     "evalue": "2",
     "output_type": "error",
     "traceback": [
      "An exception has occurred, use %tb to see the full traceback.\n",
      "\u001b[1;31mSystemExit\u001b[0m\u001b[1;31m:\u001b[0m 2\n"
     ]
    }
   ],
   "source": [
    "parser = argparse.ArgumentParser()\n",
    "parser.add_argument(\n",
    "    '-i', '--input', help='path to input video',\n",
    "    default='input/video_1.mp4'\n",
    ")\n",
    "parser.add_argument(\n",
    "    '-t', '--template', help= 'path to template',\n",
    "    default='input/video_1_template.jpg'\n",
    ")\n",
    "args = vars(parser.parse_args())\n"
   ]
  },
  {
   "cell_type": "code",
   "execution_count": 9,
   "metadata": {},
   "outputs": [
    {
     "ename": "NameError",
     "evalue": "name 'args' is not defined",
     "output_type": "error",
     "traceback": [
      "\u001b[1;31m---------------------------------------------------------------------------\u001b[0m",
      "\u001b[1;31mNameError\u001b[0m                                 Traceback (most recent call last)",
      "\u001b[1;32mc:\\Users\\Lazzy\\Desktop\\项目\\视觉项目\\Template_Matching_with_OpenCV\\template_video.ipynb 单元格 3\u001b[0m line \u001b[0;36m2\n\u001b[0;32m      <a href='vscode-notebook-cell:/c%3A/Users/Lazzy/Desktop/%E9%A1%B9%E7%9B%AE/%E8%A7%86%E8%A7%89%E9%A1%B9%E7%9B%AE/Template_Matching_with_OpenCV/template_video.ipynb#W2sZmlsZQ%3D%3D?line=0'>1</a>\u001b[0m \u001b[39m# Read the video input \u001b[39;00m\n\u001b[1;32m----> <a href='vscode-notebook-cell:/c%3A/Users/Lazzy/Desktop/%E9%A1%B9%E7%9B%AE/%E8%A7%86%E8%A7%89%E9%A1%B9%E7%9B%AE/Template_Matching_with_OpenCV/template_video.ipynb#W2sZmlsZQ%3D%3D?line=1'>2</a>\u001b[0m cap \u001b[39m=\u001b[39m cv2\u001b[39m.\u001b[39mVideoCapture(args[\u001b[39m'\u001b[39m\u001b[39minput\u001b[39m\u001b[39m'\u001b[39m])\n\u001b[0;32m      <a href='vscode-notebook-cell:/c%3A/Users/Lazzy/Desktop/%E9%A1%B9%E7%9B%AE/%E8%A7%86%E8%A7%89%E9%A1%B9%E7%9B%AE/Template_Matching_with_OpenCV/template_video.ipynb#W2sZmlsZQ%3D%3D?line=3'>4</a>\u001b[0m \u001b[39mif\u001b[39;00m (cap\u001b[39m.\u001b[39misOpened() \u001b[39m==\u001b[39m \u001b[39mFalse\u001b[39;00m):\n\u001b[0;32m      <a href='vscode-notebook-cell:/c%3A/Users/Lazzy/Desktop/%E9%A1%B9%E7%9B%AE/%E8%A7%86%E8%A7%89%E9%A1%B9%E7%9B%AE/Template_Matching_with_OpenCV/template_video.ipynb#W2sZmlsZQ%3D%3D?line=4'>5</a>\u001b[0m     \u001b[39mprint\u001b[39m(\u001b[39m'\u001b[39m\u001b[39mError while tyring to read video.\u001b[39m\u001b[39m'\u001b[39m)\n",
      "\u001b[1;31mNameError\u001b[0m: name 'args' is not defined"
     ]
    }
   ],
   "source": [
    "# Read the video input \n",
    "cap = cv2.VideoCapture(args['input'])\n",
    "\n",
    "if (cap.isOpened() == False):\n",
    "    print('Error while tyring to read video.')\n",
    "\n",
    "# Get the frame width and height\n",
    "frame_width = int(cap.get(3))\n",
    "frame_hight = int(cap.get(4))\n",
    "\n",
    "# String name with which to save the resulting video.\n",
    "save_name = str(pathlib.Path(\n",
    "    args['input'])).split(os.path.sep)[-1].split('.')[0]\n",
    "\n",
    "out = cv2.VideoWriter(f\"outputs/{save_name}.mp4\",\n",
    "                      cv2.VideoWriter_fourcc(*'mp4v'), 30,\n",
    "                      (frame_width, frame_hight))\n",
    "\n",
    "# Read the template in grayscale format.\n",
    "\n",
    "template = cv2.imread(args['template'], 0)\n",
    "w, h = template.shape[::-1]\n",
    "\n",
    "frame_count = 0 # To count total frames\n",
    "total_fps = 0 # To get the final frames per second.\n",
    " "
   ]
  },
  {
   "cell_type": "code",
   "execution_count": 10,
   "metadata": {},
   "outputs": [
    {
     "ename": "NameError",
     "evalue": "name 'cap' is not defined",
     "output_type": "error",
     "traceback": [
      "\u001b[1;31m---------------------------------------------------------------------------\u001b[0m",
      "\u001b[1;31mNameError\u001b[0m                                 Traceback (most recent call last)",
      "\u001b[1;32mc:\\Users\\Lazzy\\Desktop\\项目\\视觉项目\\Template_Matching_with_OpenCV\\template_video.ipynb 单元格 4\u001b[0m line \u001b[0;36m2\n\u001b[0;32m      <a href='vscode-notebook-cell:/c%3A/Users/Lazzy/Desktop/%E9%A1%B9%E7%9B%AE/%E8%A7%86%E8%A7%89%E9%A1%B9%E7%9B%AE/Template_Matching_with_OpenCV/template_video.ipynb#W3sZmlsZQ%3D%3D?line=0'>1</a>\u001b[0m \u001b[39m# Read until end of video.\u001b[39;00m\n\u001b[1;32m----> <a href='vscode-notebook-cell:/c%3A/Users/Lazzy/Desktop/%E9%A1%B9%E7%9B%AE/%E8%A7%86%E8%A7%89%E9%A1%B9%E7%9B%AE/Template_Matching_with_OpenCV/template_video.ipynb#W3sZmlsZQ%3D%3D?line=1'>2</a>\u001b[0m \u001b[39mwhile\u001b[39;00m (cap\u001b[39m.\u001b[39misOpened()):\n\u001b[0;32m      <a href='vscode-notebook-cell:/c%3A/Users/Lazzy/Desktop/%E9%A1%B9%E7%9B%AE/%E8%A7%86%E8%A7%89%E9%A1%B9%E7%9B%AE/Template_Matching_with_OpenCV/template_video.ipynb#W3sZmlsZQ%3D%3D?line=2'>3</a>\u001b[0m     ret, frame \u001b[39m=\u001b[39m cap\u001b[39m.\u001b[39mread()\n\u001b[0;32m      <a href='vscode-notebook-cell:/c%3A/Users/Lazzy/Desktop/%E9%A1%B9%E7%9B%AE/%E8%A7%86%E8%A7%89%E9%A1%B9%E7%9B%AE/Template_Matching_with_OpenCV/template_video.ipynb#W3sZmlsZQ%3D%3D?line=3'>4</a>\u001b[0m     \u001b[39mif\u001b[39;00m ret:\n",
      "\u001b[1;31mNameError\u001b[0m: name 'cap' is not defined"
     ]
    }
   ],
   "source": [
    "# Read until end of video.\n",
    "while (cap.isOpened()):\n",
    "    ret, frame = cap.read()\n",
    "    if ret:\n",
    "        image = frame.copy()\n",
    "        image = cv2.cvtColor(image, cv2.COLOR_BGR2GRAY)\n",
    "        start_time = time.time()\n",
    "\n",
    "        # Apply template Matching.\n",
    "        result = cv2.matchTemplate(image, template, cv2.TM_CCOEFF_NORMED)\n",
    "        end_time = time.time()\n",
    "\n",
    "        # Get the current fps.\n",
    "        fps = 1 / (end_time - start_time)\n",
    "        total_fps += fps\n",
    "        frame_count += 1\n",
    "        \n",
    "        min_val, max_val, min_loc, max_loc = cv2.minMaxLoc(result)\n",
    "        x1, y1 = max_loc\n",
    "        x2, y2 = (x1 + w, y1 + h)\n",
    "        cv2.rectangle(frame, (x1, y1), (x2, y2), (0, 255, 0),\n",
    "                      2, lineType=cv2.LINE_AA)\n",
    "        cv2.putText(frame, f\"{fps:.1f} FPS\", \n",
    "                (15, 25),cv2.FONT_HERSHEY_SIMPLEX,\n",
    "                1, (0, 255, 0), \n",
    "                2, lineType=cv2.LINE_AA)\n",
    "        cv2.imshow(\"Result\", frame)\n",
    "        out.write(frame)\n",
    "        if cv2.waitKey(1) & 0xFF == ord('q'):\n",
    "            break\n",
    "    else:\n",
    "        break\n",
    "cap.release()\n",
    "cv2.destroyAllWindows()\n"
   ]
  }
 ],
 "metadata": {
  "kernelspec": {
   "display_name": "pytorch",
   "language": "python",
   "name": "python3"
  },
  "language_info": {
   "codemirror_mode": {
    "name": "ipython",
    "version": 3
   },
   "file_extension": ".py",
   "mimetype": "text/x-python",
   "name": "python",
   "nbconvert_exporter": "python",
   "pygments_lexer": "ipython3",
   "version": "3.10.13"
  }
 },
 "nbformat": 4,
 "nbformat_minor": 2
}
