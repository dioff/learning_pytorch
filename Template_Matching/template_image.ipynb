{
 "cells": [
  {
   "cell_type": "code",
   "execution_count": 1,
   "metadata": {},
   "outputs": [],
   "source": [
    "import cv2"
   ]
  },
  {
   "cell_type": "code",
   "execution_count": 2,
   "metadata": {},
   "outputs": [
    {
     "data": {
      "text/plain": [
       "array([[[ 34,  28,  15],\n",
       "        [ 35,  29,  16],\n",
       "        [ 34,  28,  15],\n",
       "        ...,\n",
       "        [ 58,  52,  41],\n",
       "        [ 57,  51,  40],\n",
       "        [ 57,  51,  40]],\n",
       "\n",
       "       [[ 33,  27,  14],\n",
       "        [ 35,  29,  16],\n",
       "        [ 34,  28,  15],\n",
       "        ...,\n",
       "        [ 56,  50,  39],\n",
       "        [ 55,  49,  38],\n",
       "        [ 55,  49,  38]],\n",
       "\n",
       "       [[ 35,  29,  16],\n",
       "        [ 36,  30,  17],\n",
       "        [ 35,  29,  16],\n",
       "        ...,\n",
       "        [ 55,  49,  38],\n",
       "        [ 55,  49,  38],\n",
       "        [ 55,  49,  38]],\n",
       "\n",
       "       ...,\n",
       "\n",
       "       [[104,  96,  83],\n",
       "        [106,  98,  85],\n",
       "        [107,  99,  86],\n",
       "        ...,\n",
       "        [ 83,  73,  63],\n",
       "        [ 80,  70,  60],\n",
       "        [ 76,  66,  56]],\n",
       "\n",
       "       [[101,  93,  80],\n",
       "        [103,  95,  82],\n",
       "        [ 96,  88,  75],\n",
       "        ...,\n",
       "        [ 77,  67,  57],\n",
       "        [ 75,  65,  55],\n",
       "        [ 75,  65,  55]],\n",
       "\n",
       "       [[101,  93,  80],\n",
       "        [103,  95,  82],\n",
       "        [ 96,  88,  75],\n",
       "        ...,\n",
       "        [ 77,  67,  57],\n",
       "        [ 75,  65,  55],\n",
       "        [ 75,  65,  55]]], dtype=uint8)"
      ]
     },
     "execution_count": 2,
     "metadata": {},
     "output_type": "execute_result"
    }
   ],
   "source": [
    "image = cv2.imread('input/image_1.jpg')\n",
    "image_copy = image.copy()\n",
    "image"
   ]
  },
  {
   "cell_type": "code",
   "execution_count": 3,
   "metadata": {},
   "outputs": [],
   "source": [
    "# Convert image to Grayscale format\n",
    "image_copy = cv2.cvtColor(image_copy, cv2.COLOR_BGR2GRAY)\n",
    "\n",
    "# Read the template in grayscale format\n",
    "template = cv2.imread('input/image_1_template.jpg', 0)\n",
    "\n",
    "w, h = template.shape[::-1]\n",
    "\n",
    "# shape return turtle(rows, columns), rows --> hight, columns --> width\n"
   ]
  },
  {
   "cell_type": "code",
   "execution_count": 4,
   "metadata": {},
   "outputs": [],
   "source": [
    "# Apply template Matching\n",
    "result = cv2.matchTemplate(image_copy, template, cv2.TM_CCOEFF_NORMED)\n",
    "\n",
    "min_val, max_val, min_loc, max_loc = cv2.minMaxLoc(result)\n"
   ]
  },
  {
   "cell_type": "code",
   "execution_count": 5,
   "metadata": {},
   "outputs": [
    {
     "ename": "KeyboardInterrupt",
     "evalue": "",
     "output_type": "error",
     "traceback": [
      "\u001b[1;31m---------------------------------------------------------------------------\u001b[0m",
      "\u001b[1;31mKeyboardInterrupt\u001b[0m                         Traceback (most recent call last)",
      "\u001b[1;32mc:\\Users\\Lazzy\\Desktop\\项目\\视觉项目\\Template_Matching_with_OpenCV\\template_image.ipynb 单元格 5\u001b[0m line \u001b[0;36m1\n\u001b[0;32m      <a href='vscode-notebook-cell:/c%3A/Users/Lazzy/Desktop/%E9%A1%B9%E7%9B%AE/%E8%A7%86%E8%A7%89%E9%A1%B9%E7%9B%AE/Template_Matching_with_OpenCV/template_image.ipynb#W4sZmlsZQ%3D%3D?line=8'>9</a>\u001b[0m cv2\u001b[39m.\u001b[39mnormalize(result, result, \u001b[39m0\u001b[39m, \u001b[39m1\u001b[39m, cv2\u001b[39m.\u001b[39mNORM_MINMAX, \u001b[39m-\u001b[39m\u001b[39m1\u001b[39m )\n\u001b[0;32m     <a href='vscode-notebook-cell:/c%3A/Users/Lazzy/Desktop/%E9%A1%B9%E7%9B%AE/%E8%A7%86%E8%A7%89%E9%A1%B9%E7%9B%AE/Template_Matching_with_OpenCV/template_image.ipynb#W4sZmlsZQ%3D%3D?line=9'>10</a>\u001b[0m cv2\u001b[39m.\u001b[39mimshow(\u001b[39m'\u001b[39m\u001b[39mDetected point\u001b[39m\u001b[39m'\u001b[39m, result)\n\u001b[1;32m---> <a href='vscode-notebook-cell:/c%3A/Users/Lazzy/Desktop/%E9%A1%B9%E7%9B%AE/%E8%A7%86%E8%A7%89%E9%A1%B9%E7%9B%AE/Template_Matching_with_OpenCV/template_image.ipynb#W4sZmlsZQ%3D%3D?line=10'>11</a>\u001b[0m cv2\u001b[39m.\u001b[39;49mwaitKey(\u001b[39m0\u001b[39;49m)\n",
      "\u001b[1;31mKeyboardInterrupt\u001b[0m: "
     ]
    }
   ],
   "source": [
    "#  Top left x and y \n",
    "x1, y1 = max_loc\n",
    "#  Bottom right x and y\n",
    "x2, y2 = (x1 + w, y1 + h)\n",
    "\n",
    "cv2.rectangle(image, (x1, y1), (x2, y2), (0, 0, 255), 2)\n",
    "cv2.imshow(\"Result\", image)\n",
    "\n",
    "cv2.normalize(result, result, 0, 1, cv2.NORM_MINMAX, -1 )\n",
    "cv2.imshow('Detected point', result)\n",
    "cv2.waitKey(0)"
   ]
  }
 ],
 "metadata": {
  "kernelspec": {
   "display_name": "pytorch",
   "language": "python",
   "name": "python3"
  },
  "language_info": {
   "codemirror_mode": {
    "name": "ipython",
    "version": 3
   },
   "file_extension": ".py",
   "mimetype": "text/x-python",
   "name": "python",
   "nbconvert_exporter": "python",
   "pygments_lexer": "ipython3",
   "version": "3.10.13"
  }
 },
 "nbformat": 4,
 "nbformat_minor": 2
}
